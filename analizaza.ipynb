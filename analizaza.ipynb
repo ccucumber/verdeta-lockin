{
 "cells": [
  {
   "cell_type": "code",
   "execution_count": 22,
   "metadata": {
    "collapsed": true
   },
   "outputs": [],
   "source": [
    "import numpy as np\n",
    "import matplotlib.pyplot as plt\n",
    "dane = np.loadtxt('raw_data_20181207-114542.txt')"
   ]
  },
  {
   "cell_type": "code",
   "execution_count": 23,
   "metadata": {},
   "outputs": [],
   "source": [
    "spacing=dane[1,0]-dane[0,0]\n",
    "y=dane[:,1]\n",
    "z=dane[:,2]"
   ]
  },
  {
   "cell_type": "code",
   "execution_count": 24,
   "metadata": {
    "collapsed": false
   },
   "outputs": [
    {
     "data": {
      "image/png": "[encoded data removed]",
      "text/plain": [
       "<Figure size 432x288 with 1 Axes>"
      ]
     },
     "metadata": {},
     "output_type": "display_data"
    },
    {
     "data": {
      "text/plain": [
       "<Figure size 432x288 with 0 Axes>"
      ]
     },
     "execution_count": 0,
     "metadata": {},
     "output_type": "execute_result"
    }
   ],
   "source": [
    "fq=np.fft.rfftfreq(len(y),spacing)\n",
    "ab=np.absolute(np.fft.rfft(y))\n",
    "fig = plt.figure()\n",
    "subfig1 = fig.add_subplot(111)\n",
    "subfig1.set_title('spectrum')\n",
    "subfig1.set_xlabel('freq [Hz]')\n",
    "subfig1.set_ylabel('x channel output [A]')\n",
    "subfig1.grid(True)\n",
    "subfig1.semilogy(fq,ab, '.r-')\n",
    "plt.show()\n",
    "plt.savefig('digital.png')\n"
   ]
  },
  {
   "cell_type": "code",
   "execution_count": 25,
   "metadata": {},
   "outputs": [
    {
     "data": {
      "text/plain": [
       "[<matplotlib.lines.Line2D at 0x7fb295b55ac8>]"
      ]
     },
     "execution_count": 25,
     "metadata": {},
     "output_type": "execute_result"
    },
    {
     "data": {
      "image/png": "[encoded data removed]",
      "text/plain": [
       "<Figure size 432x288 with 1 Axes>"
      ]
     },
     "metadata": {},
     "output_type": "display_data"
    }
   ],
   "source": [
    "plt.plot(dane[0:100,0],y[0:100])"
   ]
  },
  {
   "cell_type": "code",
   "execution_count": 3,
   "metadata": {},
   "outputs": [
    {
     "ename": "TypeError",
     "evalue": "list indices must be integers or slices, not tuple",
     "traceback": [
      "\u001b[0;31m---------------------------------------------------------------------------\u001b[0m",
      "\u001b[0;31mTypeError\u001b[0m                                 Traceback (most recent call last)",
      "\u001b[0;32m<ipython-input-3-89f16e820360>\u001b[0m in \u001b[0;36m<module>\u001b[0;34m()\u001b[0m\n\u001b[0;32m----> 1\u001b[0;31m \u001b[0;34m[\u001b[0m\u001b[0;34m[\u001b[0m\u001b[0;36m0.0\u001b[0m\u001b[0;34m,\u001b[0m \u001b[0;36m0\u001b[0m\u001b[0;34m,\u001b[0m \u001b[0;32mFalse\u001b[0m\u001b[0;34m,\u001b[0m \u001b[0;32mFalse\u001b[0m\u001b[0;34m]\u001b[0m\u001b[0;34m,\u001b[0m \u001b[0;34m[\u001b[0m\u001b[0;36m0.0\u001b[0m\u001b[0;34m,\u001b[0m \u001b[0;36m1\u001b[0m\u001b[0;34m,\u001b[0m \u001b[0;32mFalse\u001b[0m\u001b[0;34m,\u001b[0m \u001b[0;32mFalse\u001b[0m\u001b[0;34m]\u001b[0m\u001b[0;34m,\u001b[0m \u001b[0;34m[\u001b[0m\u001b[0;36m0.0\u001b[0m\u001b[0;34m,\u001b[0m \u001b[0;36m2\u001b[0m\u001b[0;34m,\u001b[0m \u001b[0;32mFalse\u001b[0m\u001b[0;34m,\u001b[0m \u001b[0;32mFalse\u001b[0m\u001b[0;34m]\u001b[0m\u001b[0;34m,\u001b[0m \u001b[0;34m[\u001b[0m\u001b[0;36m0.0\u001b[0m\u001b[0;34m,\u001b[0m \u001b[0;36m3\u001b[0m\u001b[0;34m,\u001b[0m \u001b[0;32mFalse\u001b[0m\u001b[0;34m,\u001b[0m \u001b[0;32mFalse\u001b[0m\u001b[0;34m]\u001b[0m\u001b[0;34m,\u001b[0m \u001b[0;34m[\u001b[0m\u001b[0;36m0.0\u001b[0m\u001b[0;34m,\u001b[0m \u001b[0;36m4\u001b[0m\u001b[0;34m,\u001b[0m \u001b[0;32mFalse\u001b[0m\u001b[0;34m,\u001b[0m \u001b[0;32mFalse\u001b[0m\u001b[0;34m]\u001b[0m\u001b[0;34m,\u001b[0m \u001b[0;34m[\u001b[0m\u001b[0;36m0.0\u001b[0m\u001b[0;34m,\u001b[0m \u001b[0;36m5\u001b[0m\u001b[0;34m,\u001b[0m \u001b[0;32mFalse\u001b[0m\u001b[0;34m,\u001b[0m \u001b[0;32mFalse\u001b[0m\u001b[0;34m]\u001b[0m\u001b[0;34m]\u001b[0m\u001b[0;34m[\u001b[0m\u001b[0;34m:\u001b[0m \u001b[0;34m,\u001b[0m \u001b[0;36m1\u001b[0m\u001b[0;34m]\u001b[0m\u001b[0;34m\u001b[0m\u001b[0;34m\u001b[0m\u001b[0m\n\u001b[0m",
      "\u001b[0;31mTypeError\u001b[0m: list indices must be integers or slices, not tuple"
     ],
     "output_type": "error"
    }
   ],
   "source": [
    "[[0.0, 0, False, False], [0.0, 1, False, False], [0.0, 2, False, False], [0.0, 3, False, False], [0.0, 4, False, False], [0.0, 5, False, False]][]"
   ]
  },
  {
   "cell_type": "code",
   "execution_count": 26,
   "metadata": {},
   "outputs": [
    {
     "data": {
      "text/plain": [
       "array([-1., -1., -1., -1., -1., -1., -1.,  1.,  1.,  1.,  1.,  1.,  1.,\n        1.,  1., -1., -1., -1., -1., -1., -1., -1., -1.,  1.,  1.,  1.,\n        1.,  1.,  1.,  1.,  1., -1., -1., -1., -1., -1., -1., -1., -1.,\n        1.,  1.,  1.,  1.,  1.,  1.,  1.])"
      ]
     },
     "execution_count": 26,
     "metadata": {},
     "output_type": "execute_result"
    }
   ],
   "source": [
    "2*(z-0.5)"
   ]
  },
  {
   "cell_type": "code",
   "execution_count": null,
   "metadata": {},
   "outputs": [],
   "source": [
    "\n",
    "\n",
    "    #for i in range(10):\n",
    "    #   print(potentiostat.get_current_value()*1e9)\n",
    "\n",
    "    root = Tk.Tk()\n",
    "    root.wm_title(\"PLOT\")\n",
    "\n",
    "    f = Figure(figsize=(5, 4), dpi=100)\n",
    "    a = f.add_subplot(111)\n",
    "    t = np.arange(len(kom.data))*potentiostat.time_multiplier\n",
    "    s = np.array(kom.data)[:,(0,3)]#*potentiostat.range_multiplier\n",
    "    f1 = np.array(kom.data)[:,1]\n",
    "    f2 = np.array(kom.data)[:,2]\n",
    "    f3 = np.array(kom.data)[:,3]\n",
    "\n",
    "    print(s)\n",
    "    print(len(kom.data))\n",
    "\n",
    "\n",
    "    # save data to text file\n",
    "\n",
    "    timestamp = time.strftime(\"%Y%m%d-%H%M%S\")\n",
    "\n",
    "    np.savetxt('raw_data_' + timestamp + '.txt', np.c_[t,s], header='# t[s] \\t U[V]')\n",
    "\n",
    "\n",
    "    a.plot(t, s) #, np.sin(2 * np.pi * t / 50),t , np.cos(2 * np.pi * t / 50))\n",
    "\n",
    "    # a tk.DrawingArea\n",
    "    canvas = FigureCanvasTkAgg(f, master=root)\n",
    "    canvas.show()\n",
    "    canvas.get_tk_widget().pack(side=Tk.TOP, fill=Tk.BOTH, expand=1)\n",
    "\n",
    "    toolbar = NavigationToolbar2TkAgg(canvas, root)\n",
    "    toolbar.update()\n",
    "    canvas._tkcanvas.pack(side=Tk.TOP, fill=Tk.BOTH, expand=1)\n",
    "\n",
    "\n",
    "    def on_key_event(event):\n",
    "        print('you pressed %s' % event.key)\n",
    "        key_press_handler(event, canvas, toolbar)\n",
    "\n",
    "\n",
    "    canvas.mpl_connect('key_press_event', on_key_event)\n",
    "\n",
    "\n",
    "    def _quit():\n",
    "        root.quit()  # stops mainloop\n",
    "        root.destroy()  # this is necessary on Windows to prevent\n",
    "        # Fatal Python Error: PyEval_RestoreThread: NULL tstate\n",
    "\n",
    "\n",
    "    button = Tk.Button(master=root, text='Quit', command=_quit)\n",
    "    button.pack(side=Tk.BOTTOM)\n",
    "\n",
    "    Tk.mainloop()\n",
    "    # If you put root.destroy() here, it will cause an error if\n",
    "    # the window is closed with the window manager."
   ]
  }
 ],
 "metadata": {
  "kernelspec": {
   "display_name": "Python 2",
   "language": "python",
   "name": "python2"
  },
  "language_info": {
   "codemirror_mode": {
    "name": "ipython",
    "version": 2
   },
   "file_extension": ".py",
   "mimetype": "text/x-python",
   "name": "python",
   "nbconvert_exporter": "python",
   "pygments_lexer": "ipython2",
   "version": "2.7.6"
  }
 },
 "nbformat": 4,
 "nbformat_minor": 0
}
